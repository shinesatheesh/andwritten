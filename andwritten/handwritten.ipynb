{
 "cells": [
  {
   "cell_type": "code",
   "execution_count": 27,
   "id": "678dc87a",
   "metadata": {},
   "outputs": [],
   "source": [
    "import tensorflow as tf\n",
    "import numpy as np\n",
    "import cv2 \n",
    "from tensorflow import keras\n",
    "import matplotlib.pyplot as plt\n",
    "import PIL\n",
    "\n",
    "from tensorflow.keras.preprocessing import image"
   ]
  },
  {
   "cell_type": "code",
   "execution_count": 10,
   "id": "e2a6438c",
   "metadata": {},
   "outputs": [],
   "source": [
    "from keras.models import load_model"
   ]
  },
  {
   "cell_type": "code",
   "execution_count": 12,
   "id": "d2b55cc7",
   "metadata": {},
   "outputs": [],
   "source": [
    "model = load_model(\"recognition\")\n"
   ]
  },
  {
   "cell_type": "code",
   "execution_count": 13,
   "id": "453703f0",
   "metadata": {},
   "outputs": [],
   "source": [
    "img = cv2.imread(\"./image/7.png\")\n",
    "img = cv2.cvtColor(img,cv2.COLOR_BGR2GRAY)\n",
    "img = cv2.GaussianBlur(img,(9,9),0)\n",
    "\n",
    "img = cv2.resize(img,(28,28),interpolation=cv2.INTER_AREA)\n",
    "(thresh, blackAndWhiteImage) = cv2.threshold(img, 127, 255, cv2.THRESH_BINARY)\n",
    "img = img.astype(\"float32\") / 255\n"
   ]
  },
  {
   "cell_type": "code",
   "execution_count": 14,
   "id": "a9c36d2b",
   "metadata": {
    "scrolled": true
   },
   "outputs": [
    {
     "name": "stdout",
     "output_type": "stream",
     "text": [
      "1/1 [==============================] - 1s 660ms/step\n",
      "5\n"
     ]
    }
   ],
   "source": [
    "\n",
    "pred = model.predict(img.reshape(1,28, 28,1))\n",
    "print(pred.argmax())\n"
   ]
  },
  {
   "cell_type": "code",
   "execution_count": 33,
   "id": "3f291a51",
   "metadata": {},
   "outputs": [
    {
     "name": "stderr",
     "output_type": "stream",
     "text": [
      "/tmp/ipykernel_9717/3857468347.py:21: DeprecationWarning: ANTIALIAS is deprecated and will be removed in Pillow 10 (2023-07-01). Use Resampling.LANCZOS instead.\n",
      "  img = PIL.Image.open('./image/1.png').convert('L').resize((28, 28), PIL.Image.ANTIALIAS)\n"
     ]
    },
    {
     "data": {
      "image/png": "[encoded data removed]",
      "text/plain": [
       "<Figure size 640x480 with 1 Axes>"
      ]
     },
     "metadata": {},
     "output_type": "display_data"
    },
    {
     "name": "stdout",
     "output_type": "stream",
     "text": [
      "1/1 [==============================] - 0s 56ms/step\n",
      "Prediction value: 9\n"
     ]
    }
   ],
   "source": [
    "def normalize_image (img) :\n",
    "    \"\"\"\n",
    "    Normalize image\n",
    "    :param img: input image with range 0-255 int\n",
    "    :return: normalized image (with range 0 - 1 float)\n",
    "    \"\"\"\n",
    "\n",
    "    # taken from https://stackoverflow.com/questions/46689428/convert-np-array-of-type-float64-to-type-uint8-scaling-values\n",
    "    info = np.iinfo(img.dtype)\n",
    "    norm_img = img.astype(np.float64) / info.max\n",
    "\n",
    "    # tensorflow mnist use black background - so change bg from white to black\n",
    "    for i in range(len(norm_img)):\n",
    "        for j in range(len(norm_img[i])):\n",
    "            norm_img[i][j] = abs(norm_img[i][j] - 1)\n",
    "\n",
    "    return norm_img\n",
    "\n",
    "\n",
    "\n",
    "img = PIL.Image.open('./image/1.png').convert('L').resize((28, 28), PIL.Image.ANTIALIAS)\n",
    "img = np.array(img)\n",
    "img = normalize_image(img)\n",
    "\n",
    "# create my custom tests list\n",
    "my_tests = np.array([img])\n",
    "                                                    \n",
    "# show the image which value I want to predict\n",
    "plt.imshow(img, cmap=\"gray\")\n",
    "plt.show()\n",
    "predictions = model.predict(my_tests)\n",
    "print(\"Prediction value:\", np.argmax(predictions[0]))"
   ]
  },
  {
   "cell_type": "code",
   "execution_count": null,
   "id": "f9a48b42",
   "metadata": {},
   "outputs": [],
   "source": []
  }
 ],
 "metadata": {
  "kernelspec": {
   "display_name": "Python 3 (ipykernel)",
   "language": "python",
   "name": "python3"
  },
  "language_info": {
   "codemirror_mode": {
    "name": "ipython",
    "version": 3
   },
   "file_extension": ".py",
   "mimetype": "text/x-python",
   "name": "python",
   "nbconvert_exporter": "python",
   "pygments_lexer": "ipython3",
   "version": "3.8.10"
  }
 },
 "nbformat": 4,
 "nbformat_minor": 5
}
